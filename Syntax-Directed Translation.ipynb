{
 "cells": [
  {
   "cell_type": "markdown",
   "metadata": {
    "solution": "hidden"
   },
   "source": [
    "---\n",
    "\n",
    "# 4. Syntax-Directed Translation\n",
    "**[Emil Sekerinski](http://www.cas.mcmaster.ca/~emil/), McMaster University, January 2019**\n",
    "\n",
    "---"
   ]
  },
  {
   "cell_type": "markdown",
   "metadata": {},
   "source": [
    "So far we were only concerned with accepting or rejecting the input. The goal of parsing is of course to produce eventually output, in the case of a compiler to generate machine code.\n",
    "\n",
    "Attribute grammars attach computation to a parse tree; they were suggested by Knuth of assigning semantics to context-free languages <cite data-cite=\"1997494/K7M86FYQ\"></cite>. An attribute grammar extends context-free grammars by\n",
    "- associating a set of named attributes with each symbol and\n",
    "- augmenting productions with attribute evaluation rules"
   ]
  },
  {
   "cell_type": "markdown",
   "metadata": {},
   "source": [
    "To every symbol `X` a computation is associated that returns a tuple of values, the attributes of `X`. Productions are of the form\n",
    "\n",
    "    X s₁ s₂ → … Y t₁ t₂ … Z u₁ u₂ …\n",
    "\n",
    "where `s₁, s₂, t₁, t₂, u₁, u₂` are the attributes associated with the symbols `X, Y, Z`. The computation, in its simplest form, is a function that computes the attributes on the left-hand side of a production from the attributes on the right-hand side:\n",
    "\n",
    "    (s₁, s₂) = f(t₁, t₂, u₁, u₂)\n",
    "\n",
    "With the implementation of a parser in mind, we allow not only mathematical functions but programming language statements to express the computation. If a symbol appears multiple times, the attributes are given unique names, as the attributes are identified by position.\n",
    "\n",
    "Consider a grammar for binary numbers with productions:\n",
    "\n",
    "    binary → binary digit\n",
    "    binary → digit\n",
    "    digit → 0\n",
    "    digit → 1\n",
    "\n",
    "For computing the value of a binary number, one integer attribute is associted with `digit` and one integer attribute with `binary`. An attribute grammar computing the value is:\n",
    "\n",
    "| production                     | attribute rule   |\n",
    "|:-------------------------------|:-----------------|\n",
    "| `binary v → binary w  digit d` | `v := 2 × w + d` |\n",
    "| `binary v → digit d`           | `v := d`         |\n",
    "| `digit d → '0'`                | `d := 0`         |\n",
    "| `digit d → '1'`                | `d := 1`         |\n",
    "\n",
    "In the parse tree, the attributes are evaluated bottom-up; the meaning of a sentence is given by the attributes of the start symbol from which it is derived.\n",
    "\n",
    "Draw the parse tree of `101` and annotate each node of the tree with the attribute values!"
   ]
  },
  {
   "cell_type": "markdown",
   "metadata": {
    "solution": "shown",
    "solution_first": true
   },
   "source": [
    "**Question.** Given above plain grammar for binary numbers, what is an attribute grammar for computing the number of zero's and one's of sequence of digits? Draw the parse tree for `1011` and annotate each node with the attribute values! _Hint:_ Use two attributes, one for the number of zero's and one for the number of one's."
   ]
  },
  {
   "cell_type": "markdown",
   "metadata": {
    "solution": "shown"
   },
   "source": [
    "| production                                | attribute rule               |\n",
    "|:------------------------------------------|:-----------------------------|\n",
    "| `binary z₀ o₀ → binary z₁ o₁ digit z₂ o₂` | `z₀, o₀ := z₁ + z₂, o₁ + o₂` |\n",
    "| `binary z₀ o₀ → digit z₁ o₁`              | `z₀, o₀ := z₁, o₁`           |\n",
    "| `digit z o → '0'`                         | `z, o := 0`                  |\n",
    "| `digit z o → '1'`                         | `z, o := 1`                  |"
   ]
  },
  {
   "cell_type": "markdown",
   "metadata": {},
   "source": [
    "Above grammar has left-recursion, so it unsuitable for recursive descent parsing. An equivalent grammar in EBNF is:\n",
    "\n",
    "    binary → digit { digit }\n",
    "    digit → '0' | '1'\n",
    "\n",
    "In this form, the attribute rules are placed \"inside\" the productions to express that the attributes are to be evaluated after a nonterminal is recognized, as would be with the plain grammar. The attribute rules are delineated `«` and `»`:\n",
    "\n",
    "    binary v → digit d « v := d » { digit d « v := 2 × v + d » }\n",
    "    digit d → '0' « d := 0 » | '1' « d := 1 »"
   ]
  },
  {
   "cell_type": "markdown",
   "metadata": {},
   "source": [
    "In the construction of a recursive descent parser, the attributes become result parameters of the parsing procedures. The rules for constructing `pr(E)` are extended to include attribute evaluation rules:\n",
    "\n",
    "| `E`             | `pr(E)` |\n",
    "|:----------------|:--------|\n",
    "| `«stat»`        | `stat`  |\n",
    "\n",
    "As Python does not have result parameters but uses return values, local variables for the attributes are introduced and returned at the end of each parsing procedure. Here is the parser for above grammar without attributes:"
   ]
  },
  {
   "cell_type": "code",
   "execution_count": 7,
   "metadata": {},
   "outputs": [],
   "source": [
    "def nxt():\n",
    "    global pos, sym\n",
    "    if pos < len(src): sym, pos = src[pos], pos+1\n",
    "    else: sym = chr(0) # end of input symbol\n",
    "\n",
    "def binary():\n",
    "    digit()\n",
    "    while sym in '01': digit()\n",
    "\n",
    "def digit():\n",
    "    if sym == '0': nxt()\n",
    "    elif sym == '1': nxt()\n",
    "    else: raise Exception(\"invalid character \" + str(pos))\n",
    "\n",
    "def parse(s):\n",
    "    global src, pos;\n",
    "    src, pos = s, 0; nxt(); binary()\n",
    "    if sym != chr(0): raise Exception(\"unexpected characters at \" + str(pos))\n",
    "\n",
    "parse(\"101\")"
   ]
  },
  {
   "cell_type": "markdown",
   "metadata": {},
   "source": [
    "Here is the parser with attribute rules added:"
   ]
  },
  {
   "cell_type": "code",
   "execution_count": 8,
   "metadata": {},
   "outputs": [
    {
     "data": {
      "text/plain": [
       "5"
      ]
     },
     "execution_count": 8,
     "metadata": {},
     "output_type": "execute_result"
    }
   ],
   "source": [
    "def nxt():\n",
    "    global pos, sym\n",
    "    if pos < len(src): sym, pos = src[pos], pos+1\n",
    "    else: sym = chr(0) # end of input symbol\n",
    "\n",
    "def binary():\n",
    "    d = digit(); v = d\n",
    "    while sym in '01': d = digit(); v = v * 2 + d\n",
    "    return v\n",
    "\n",
    "def digit():\n",
    "    if sym == '0': nxt(); d = 0\n",
    "    elif sym == '1': nxt(); d = 1\n",
    "    else: raise Exception(\"invalid character \" + str(pos))\n",
    "    return d\n",
    "\n",
    "def parse(s):\n",
    "    global src, pos;\n",
    "    src, pos = s, 0; nxt(); v = binary()\n",
    "    if sym != chr(0): raise Exception(\"unexpected characters at \" + str(pos))\n",
    "    return v\n",
    "\n",
    "parse(\"101\")"
   ]
  },
  {
   "cell_type": "markdown",
   "metadata": {},
   "source": [
    "Consider following grammar for arithmetic expression over constant integers. The symbols are characters and white space (`ws`) is allowed around operators and integers:\n",
    "\n",
    "    expression → ws term { '+' ws term }\n",
    "    term → factor { '*' ws factor }\n",
    "    factor → integer | '(' ws expression ')' ws\n",
    "    integer → digit { digit } ws\n",
    "    digit d → '0' | '1' | '2' | '3' | '4' | '5' | '6' | '7' | '8' | '9'\n",
    "    ws → { ' ' }"
   ]
  },
  {
   "cell_type": "markdown",
   "metadata": {},
   "source": [
    "Attribute rules are added for evaluating an expression. \n",
    "\n",
    "    expression e → ws term t « e := t » { '+' ws term « e := e + t » }\n",
    "    term t → factor f « t := f » { '*' ws factor f « t := t * f » }\n",
    "    factor f → integer i « f := i » | '(' ws expression e « f := e »')' ws\n",
    "    integer i → digit d « i := d » { digit « i := 10 * i + d » } ws\n",
    "    digit d → '0' « d := 0 » | '1' « d := 1 » | … | '9' « d := 9 » \n",
    "    ws → { ' ' }\n",
    "\n",
    "The implementation below contains several simplifications:\n",
    "- the test `sym ∈ {'0', '1', … '9'}` is implemented by `'0' <= sym <= '9'`,\n",
    "- if `sym` is a digit, it is converted to an integer by `ord(sym) - ord('0')`."
   ]
  },
  {
   "cell_type": "code",
   "execution_count": 9,
   "metadata": {},
   "outputs": [
    {
     "data": {
      "text/plain": [
       "10"
      ]
     },
     "execution_count": 9,
     "metadata": {},
     "output_type": "execute_result"
    }
   ],
   "source": [
    "def nxt():\n",
    "    global pos, sym\n",
    "    if pos < len(src): sym, pos = src[pos], pos+1\n",
    "    else: sym = chr(0) # end of input symbol\n",
    "\n",
    "def expression() -> int:\n",
    "    ws(); e = term()\n",
    "    while sym == '+': nxt(); ws(); t = term(); e = e + t\n",
    "    return e\n",
    "\n",
    "def term() -> int:\n",
    "    t = factor()\n",
    "    while sym == '*': nxt(); ws(); f = factor(); t = t * f\n",
    "    return t\n",
    "\n",
    "def factor() -> int:\n",
    "    if '0' <= sym <= '9': f = integer()\n",
    "    elif sym == '(':\n",
    "        nxt(); ws(); f = expression()\n",
    "        if sym == ')': nxt(); ws()\n",
    "        else: raise Exception(\"')' expected at \" + str(pos))\n",
    "    else: raise Exception(\"invalid character \" + str(pos))\n",
    "    return f\n",
    "\n",
    "def integer() -> int:\n",
    "    i = digit()\n",
    "    while '0' <= sym <= '9': i = 10 * i + digit(); nxt()\n",
    "    ws()\n",
    "    return i\n",
    "\n",
    "def digit() -> int:\n",
    "    # '0' <= sym <= '9'\n",
    "    d = ord(sym) - ord('0'); nxt()\n",
    "    return d\n",
    "\n",
    "def ws():\n",
    "    while sym == ' ': nxt()\n",
    "\n",
    "def parse(s) -> int:\n",
    "    global src, pos;\n",
    "    src, pos = s, 0; nxt(); v = expression()\n",
    "    if sym != chr(0): raise Exception(\"unexpected characters at \" + str(pos))\n",
    "    return v\n",
    "\n",
    "parse(\"(2 + 3)* 2\")"
   ]
  },
  {
   "cell_type": "markdown",
   "metadata": {},
   "source": [
    "Infix to postfix translation:\n",
    "\n",
    "| infix notation      | postfix notation |\n",
    "|:--------------------|:-----------------|\n",
    "| `2 + 3`             | `2 3 +`          |\n",
    "| `2 * 3 + 4`         | `2 3 * 4 +`      |\n",
    "| `2 + 3 * 4`         | `2 3 4 * +`      |\n",
    "| `(5 – 4) * (3 + 2)` | `5 4 – 3 2 + *`  |\n",
    "\n",
    "**Question.** Where is postfix notation used?"
   ]
  },
  {
   "cell_type": "markdown",
   "metadata": {},
   "source": [
    "All attributes are strings and `+` is used for concatenation. Complete the attribute rules!\n",
    "\n",
    "    expression e → ws term t « e := t » { '+' ws term t « e := e + t + '+' » }\n",
    "    term → factor { '*' ws factor }\n",
    "    factor → integer | '(' ws expression ')' ws\n",
    "    integer → digit { digit } ws\n",
    "    ws → { ' ' }\n",
    "\n",
    "Modify the implementation below accordingly!"
   ]
  },
  {
   "cell_type": "code",
   "execution_count": 10,
   "metadata": {},
   "outputs": [
    {
     "data": {
      "text/plain": [
       "10"
      ]
     },
     "execution_count": 10,
     "metadata": {},
     "output_type": "execute_result"
    }
   ],
   "source": [
    "def nxt():\n",
    "    global pos, sym\n",
    "    if pos < len(src): sym, pos = src[pos], pos+1\n",
    "    else: sym = chr(0) # end of input symbol\n",
    "\n",
    "def expression() -> int:\n",
    "    ws(); e = term()\n",
    "    while sym == '+': nxt(); ws(); t = term(); e = e + t\n",
    "    return e\n",
    "\n",
    "def term() -> int:\n",
    "    t = factor()\n",
    "    while sym == '*': nxt(); ws(); f = factor(); t = t * f\n",
    "    return t\n",
    "\n",
    "def factor() -> int:\n",
    "    if '0' <= sym <= '9': f = integer()\n",
    "    elif sym == '(':\n",
    "        nxt(); ws(); f = expression()\n",
    "        if sym == ')': nxt(); ws()\n",
    "        else: raise Exception(\"')' expected at \" + str(pos))\n",
    "    else: raise Exception(\"invalid character \" + str(pos))\n",
    "    return f\n",
    "\n",
    "def integer() -> int:\n",
    "    i = digit()\n",
    "    while '0' <= sym <= '9': i = 10 * i + digit(); nxt()\n",
    "    ws()\n",
    "    return i\n",
    "\n",
    "def digit() -> int:\n",
    "    # '0' <= sym <= '9'\n",
    "    d = ord(sym) - ord('0'); nxt()\n",
    "    return d\n",
    "\n",
    "def ws():\n",
    "    while sym == ' ': nxt()\n",
    "\n",
    "def parse(s) -> int:\n",
    "    global src, pos;\n",
    "    src, pos = s, 0; nxt(); v = expression()\n",
    "    if sym != chr(0): raise Exception(\"unexpected characters at \" + str(pos))\n",
    "    return v\n",
    "\n",
    "parse(\"(2 + 3)* 2\")"
   ]
  },
  {
   "cell_type": "markdown",
   "metadata": {},
   "source": [
    "### Bibliography"
   ]
  },
  {
   "cell_type": "markdown",
   "metadata": {},
   "source": [
    "<div class=\"cite2c-biblio\"></div>"
   ]
  }
 ],
 "metadata": {
  "cite2c": {
   "citations": {
    "1997494/K7M86FYQ": {
     "DOI": "10.1007/BF01692511",
     "URL": "https://doi.org/10.1007/BF01692511",
     "abstract": "“Meaning” may be assigned to a string in a context-free language by defining “attributes” of the symbols in a derivation tree for that string. The attributes can be defined by functions associated with each production in the grammar. This paper examines the implications of this process when some of the attributes are “synthesized”, i.e., defined solely in terms of attributes of thedescendants of the corresponding nonterminal symbol, while other attributes are “inherited”, i.e., defined in terms of attributes of theancestors of the nonterminal symbol. An algorithm is given which detects when such semantic rules could possibly lead to circular definition of some attributes. An example is given of a simple programming language defined with both inherited and synthesized attributes, and the method of definition is compared to other techniques for formal specification of semantics which have appeared in the literature.",
     "accessed": {
      "day": 6,
      "month": 1,
      "year": 2019
     },
     "author": [
      {
       "family": "Knuth",
       "given": "Donald E."
      }
     ],
     "container-title": "Mathematical Systems Theory",
     "container-title-short": "Math. Systems Theory",
     "id": "1997494/K7M86FYQ",
     "issue": "2",
     "issued": {
      "day": 1,
      "month": 6,
      "year": 1968
     },
     "journalAbbreviation": "Math. Systems Theory",
     "language": "en",
     "page": "127-145",
     "page-first": "127",
     "title": "Semantics of context-free languages",
     "type": "article-journal",
     "volume": "2"
    }
   }
  },
  "kernelspec": {
   "display_name": "Python 3",
   "language": "python",
   "name": "python3"
  },
  "language_info": {
   "codemirror_mode": {
    "name": "ipython",
    "version": 3
   },
   "file_extension": ".py",
   "mimetype": "text/x-python",
   "name": "python",
   "nbconvert_exporter": "python",
   "pygments_lexer": "ipython3",
   "version": "3.5.1"
  },
  "toc": {
   "base_numbering": 1,
   "nav_menu": {},
   "number_sections": false,
   "sideBar": false,
   "skip_h1_title": true,
   "title_cell": "Table of Contents",
   "title_sidebar": "Contents",
   "toc_cell": false,
   "toc_position": {},
   "toc_section_display": true,
   "toc_window_display": false
  }
 },
 "nbformat": 4,
 "nbformat_minor": 2
}
