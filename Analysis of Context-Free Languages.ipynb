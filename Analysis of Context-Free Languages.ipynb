{
 "cells": [
  {
   "cell_type": "markdown",
   "metadata": {
    "slideshow": {
     "slide_type": "slide"
    }
   },
   "source": [
    "---\n",
    "\n",
    "# 4. Analysis of Context-free Languages\n",
    "**[Emil Sekerinski](http://www.cas.mcmaster.ca/~emil/), McMaster University, January 2019**\n",
    "\n",
    "---"
   ]
  },
  {
   "cell_type": "markdown",
   "metadata": {
    "slideshow": {
     "slide_type": "slide"
    }
   },
   "source": [
    "Context-free languages can contain nested structures, which cannot be recognized by finite state machines, e.g.\n",
    "\n",
    "    S → a S c | b\n",
    "\n",
    "Context-free languages can be recognized by _pushdown automata_ that operate on a stack: transitions can push on and pop from the stack. The size of the stack is not bounded. Several equivalent definitions of pushdown automata exist; we use the simplest one for our purposes.\n",
    "\n",
    "A pushdown automaton `P = (T, S, R, s₀)` is specified by\n",
    "\n",
    "- a finite set `T` of _input symbols_,\n",
    "- a finite set `S` of _stack symbols_,\n",
    "- a finite set `R` of _transitions_,\n",
    "- an _initial stack symbol_ `s₀ ∈ S ∪ {ε}`,\n",
    "\n",
    "where `T` is the _vocabulary_ and each transition is a triple with a sequence `σ ∈ S*`, a symbol `t ∈ T`, and a sequence `σ' ∈ S*`, written:\n",
    "\n",
    "\t  σ t → σ'\n",
    "\n",
    "The pushdown automaton starts with just `s₀` on the stack. A transition `σ t → σ'` can be taken if the top of the stack is `σ` and the next input symbol is `t`: the transition will pop `σ` from the stack and push `σ'` on the stack. If there are no more input symbols when the stack is empty, the input string is accepted, otherwise rejected."
   ]
  },
  {
   "cell_type": "markdown",
   "metadata": {
    "slideshow": {
     "slide_type": "slide"
    }
   },
   "source": [
    "For example, the automaton accepting the language `L₀ = {aⁿbⁿ | n ≥ 0}` is `P₀ = (T, S, R, s₀)` where `T = {a, b}`, `S = {.}`, `s₀ = {ε}`, and the transitions are:\n",
    "\n",
    "  `ε a → .` <span style=\"float:right\">(1)</span>  \n",
    "  `. b → ε` <span style=\"float:right\">(2)</span>\n",
    "\n",
    "The input `aabb` is accepted by `P₀`:\n",
    "\n",
    "| transition | stack | input  |\n",
    "|:-----------|:------|:-------|\n",
    "| ` `        | `ε`   | `aabb` |\n",
    "| (1)        | `.`   | `abb`  |\n",
    "| (1)        | `..`  | `bb`   |\n",
    "| (2)        | `.`   | `b`    |\n",
    "| (2)        | `ε`   | `ε`    |"
   ]
  },
  {
   "cell_type": "markdown",
   "metadata": {
    "slideshow": {
     "slide_type": "slide"
    }
   },
   "source": [
    "For every finite state machine an equivalent pushdown automaton can be constructed. For example, the finite state machine accepting `E₁ = ab|ac` is `A₁ = (T, Q, R, q₀, F)` with `T = {a, b, c}`, `Q = {0, 1, 2, 3, 4}`, `q₀ = 0`, `F = {3, 4}`, and transitions `R`:\n",
    "\n",
    "    0 a → 1\n",
    "    0 a → 2\n",
    "    1 b → 3\n",
    "    2 c → 4\n",
    "\n",
    "The equivalent pushdown automaton `P₁ = (T, S, R, s₀)` has the same vocabulary `T`, has `S = {0, 1}`, `s₀ = 0`, and has productions `R`:\n",
    "\n",
    "  `0 a → 1` <span style=\"float:right\">(1)</span>  \n",
    "  `0 a → 2` <span style=\"float:right\">(2)</span>  \n",
    "  `1 b → ε` <span style=\"float:right\">(3)</span>  \n",
    "  `2 c → ε` <span style=\"float:right\">(4)</span>\n",
    "\n",
    "That is, the stack is initialized with the initial state of `A₁`, the transitions of `A₁` and `P₁` are the same, except that transitions in `A₁` to final states pop the state from the stack in `P₁`."
   ]
  },
  {
   "cell_type": "markdown",
   "metadata": {
    "solution": "hidden",
    "solution_first": true
   },
   "source": [
    "**Question.** What are the steps to accept `ab` with `P₁`?"
   ]
  },
  {
   "cell_type": "markdown",
   "metadata": {
    "solution": "hidden"
   },
   "source": [
    "| transition | stack | input  |\n",
    "|:-----------|:------|:-------|\n",
    "| ` `        | `0`   | `ab`   |\n",
    "| (1)        | `1`   | `b`    |\n",
    "| (3)        | ` `   | ` `    |"
   ]
  },
  {
   "cell_type": "markdown",
   "metadata": {
    "slideshow": {
     "slide_type": "slide"
    }
   },
   "source": [
    "For every context-free grammar, an equivalent pushdown automaton can be constructed and vice versa.\n",
    "\n",
    "As with finite state machines, pushdown automata can be deterministic or nondeterministic. Unlike with finite state machines, it is not possible in general to make a pushdown automaton deterministic and running in linear time. The best one can achieve in general is to accept in approximately `n³` time, where `n` is the length of the input.\n",
    "\n",
    "For accepting in linear time, restrictions on the languages have to be imposed and therefore on the grammars generating these languages. There are different ways of constructing a pushdown automaton given a grammar, each with different restrictions on the grammars. Since our ultimate goal is to determine the meaning of a sentence by _parsing_, i.e. constructing a parse tree and not just to accept it, we have to be careful with modification of the grammar to suit the construction of the pushdown automaton."
   ]
  },
  {
   "cell_type": "markdown",
   "metadata": {
    "slideshow": {
     "slide_type": "slide"
    }
   },
   "source": [
    "_Top-down parsing_ starts to build the parse tree with the start symbol as the goal, which is split into subgoals for each non-terminal according the the grammar rules, until the terminals match the input."
   ]
  },
  {
   "cell_type": "markdown",
   "metadata": {
    "slideshow": {
     "slide_type": "slide"
    }
   },
   "source": [
    "Consider parsing the sentence `x * (y + z)` with grammar `G₂`:\n",
    "\n",
    "    E → T | E + T\n",
    "    T → F | T * F\n",
    "    F → id | ( E )\n",
    "\n",
    "The equivalent top-down pushdown automaton `P₂ = (T, S, R, s₀)` has the same vocabulary `T = {+, *, id, (, )}`, has stack symbols `S = {E, T, F, +, *, id, (, )}`, `s₀ = E`, and has transitions `R`:\n",
    "\n",
    "    E ε → T\n",
    "    E ε → E + T\n",
    "    T ε → F\n",
    "    T ε → T * F\n",
    "    F ε → id\n",
    "    F ε → ( E )\n",
    "    id id → ε\n",
    "    + + → ε\n",
    "    * * → ε\n",
    "    ( ( → ε\n",
    "    ) ) → ε\n",
    "\n",
    "A top-down parser takes two kinds of steps, M (_match_) and P (_produce_, _expand_), each applying one of the transitions:\n",
    "\n",
    "| step  | stack     | input         |\n",
    "|:------|:----------|:--------------|\n",
    "| ` `   | `E`       | `x * (y + z)` |\n",
    "| P     | `T`       | `x * (y + z)` |\n",
    "| P     | `T * F`   | `x * (y + z)` |\n",
    "| P     | `F * F`   | `x * (y + z)` |\n",
    "| P     | `id * F`  | `x * (y + z)` |\n",
    "| M     | `* F`     | `* (y + z)`   |\n",
    "| M     | `F`       | `(y + z)`     |\n",
    "| P     | `(E)`     | `(y + z)`     |\n",
    "| M     | `E)`      | `y + z)`      |\n",
    "| P     | `E + T)`  | `y + z)`      |\n",
    "| P     | `T + T)`  | `y + z)`      |\n",
    "| P     | `F + T)`  | `y + z)`      |\n",
    "| P     | `id + T)` | `y + z)`      |\n",
    "| M     | `+ T)`    | `+ z)`        |\n",
    "| M     | `T)`      | `z)`          |\n",
    "| P     | `F)`      | `z)`          |\n",
    "| P     | `id)`     | `z)`          |\n",
    "| M     | `)`       | `)`           |\n",
    "| M     | ` `       | ` `           |\n",
    "\n",
    "Because of the direct correspondence between a context-free grammar and its pushdown automaton, we will omit from now the explicit definition of the automaton."
   ]
  },
  {
   "cell_type": "markdown",
   "metadata": {
    "slideshow": {
     "slide_type": "slide"
    }
   },
   "source": [
    "_Bottom-up parsing_ builds the parse tree successively bottom-up by consecutively processing  input symbols; it ends when the start symbol of the grammar is reached.\n",
    "\n",
    "Consider parsing the sentence `x * (y + z)` with the grammar:\n",
    "\n",
    "    E → T | E + T\n",
    "    T → F | T * F\n",
    "    F → id | ( E )\n",
    "\n",
    "The equivalent bottom-up pushdown automaton `P₂' = (T, S, R, s₀)` has the same vocabulary `T = {+, *, id, (, )}`, has stack symbols `S = {E, T, F, +, *, id, (, )}`, `s₀ = E`, and has transitions `R`:\n",
    "\n",
    "    T ε → E\n",
    "    E + T ε → E\n",
    "    F ε → T\n",
    "    T * F ε → T\n",
    "    id ε → F\n",
    "    ( E ) ε → F\n",
    "    ε id → id\n",
    "    ε + → +\n",
    "    ε * → *\n",
    "    ε ( → (\n",
    "    ε ) → )\n",
    "\n",
    "A bottom-up parser takes two kinds of steps, S (shift) and R (reduce), each applying one of the transitions:\n",
    "\n",
    "| step   | stack        | input         |\n",
    "|:-------|:-------------|:--------------|\n",
    "| ` `    | ` `          | `x * (y + z)` |\n",
    "| S      | `x`          | `* (y + z)`   |\n",
    "| R      | `F`          | `* (y + z)`   |\n",
    "| R      | `T`          | `* (y + z)`   |\n",
    "| S      | `T *`        | `(y + z)`     |\n",
    "| S      | `T * (`      | `y + z)`      |\n",
    "| S      | `T * (y`     | `+ z)`        |\n",
    "| R      | `T * (F`     | `+ z)`        |\n",
    "| R      | `T * (T`     | `+ z)`        |\n",
    "| R      | `T * (E`     | `+ z)`        |\n",
    "| S      | `T * (E +`   | `z)`          |\n",
    "| S      | `T * (E + z` | `)`           |\n",
    "| R      | `T * (E + F` | `)`           |\n",
    "| R      | `T * (E + T` | `)`           |\n",
    "| R      | `T * (E`     | `)`           |\n",
    "| S      | `T * (E)`    | ` `           |\n",
    "| R      | `T * F`      | ` `           |\n",
    "| R      | `T`          | ` `           |\n",
    "| R      | `E`          | ` `           |\n",
    "\n",
    "Bottom-up parsing proceeds without a specific goal; the parse tree grows from bottom to top; the input is accepted if is reduced to the start symbol by two kinds to step:\n",
    "\n",
    "- Shift steps shift the next input symbol on the stack.\n",
    "- Reduce steps reduce a sequence of symbols on the stack according to a production.\n",
    "\n",
    "In pushdown automata, an input is accepted if the stack is empty, which can be achieved by adding one more transition, `E ε → ε`."
   ]
  },
  {
   "cell_type": "markdown",
   "metadata": {
    "slideshow": {
     "slide_type": "slide"
    }
   },
   "source": [
    "We continue with top-down parsing, which is also called _predictive parsing_ since at each P step we have to predict which production to expand. The key issue is to select the right production.\n",
    "\n",
    "Consider grammar `G₃`:\n",
    "\n",
    "\tS → A | B\n",
    "    A → x A | y\n",
    "    B → x B | z\n",
    "\n",
    "Unfortunately, when parsing `xxxz` we may get stuck:\n",
    "\n",
    "| step | stack | input  |\n",
    "|:-----|:------|:-------|\n",
    "| ` `  | `S`   | `xxxz` |\n",
    "| P    | `A`   | `xxxz` |\n",
    "| P    | `xA`  | `xxxz` |\n",
    "| M    | `A`   | `xxz`  |\n",
    "| P    | `xA`  | `xxz`  |\n",
    "| M    | `A`   | `xz`   |\n",
    "| P    | `xA`  | `xz`   |\n",
    "| M    | `A`   | `z`    |\n",
    "\n",
    "In this situation, we would need to backtrack and revise the first P step. However, with this grammar there is no limit on the number of steps that may have to be undone."
   ]
  },
  {
   "cell_type": "markdown",
   "metadata": {
    "slideshow": {
     "slide_type": "slide"
    }
   },
   "source": [
    "As our goal is deterministic parsing, in case several alternative productions can be expanded, we require that the parser selects the right one with _one symbol lookahead_. The required restrictions on the grammar are expressed in terms of the _first_ and _follow sets_.\n",
    "\n",
    "The set `first(ω)` is the set of all terminals that can appear in the first position of sentences derived from `ω`:\n",
    "\n",
    "    first(ω) = {t ∈ T | ω ⇒* t ν, for some ν ∈ V*}\n",
    "\t\n",
    "The set `follow(ω)` is the set of all terminal symbols that may follow `ω` in any sentence:\n",
    "\n",
    "    follow(ω) = {t ∈ T | S ⇒* μ ω t ν, for some μ, ν ∈ V*}\n",
    "\n",
    "Two conditions are required to ensure that a deterministic, one symbol lookahead top-down parser can be constructed."
   ]
  },
  {
   "cell_type": "markdown",
   "metadata": {
    "slideshow": {
     "slide_type": "slide"
    }
   },
   "source": [
    "**Condition 1.** If `A` is defined by the production\n",
    "\n",
    "    A → χ₁ | χ₂ | …\n",
    "\n",
    "then the initial symbols of all sentences that can be derived from all `χᵢ` must be distinct, i.e.:\n",
    "\n",
    "  `first(χᵢ) ∩ first(χⱼ) = {}`  for all  `i ≠ j`"
   ]
  },
  {
   "cell_type": "markdown",
   "metadata": {
    "slideshow": {
     "slide_type": "slide"
    },
    "solution": "hidden",
    "solution_first": true
   },
   "source": [
    "**Question.** What are `first(A)`, `first(B)`, `first(S)` in `G₃`?"
   ]
  },
  {
   "cell_type": "markdown",
   "metadata": {
    "solution": "hidden"
   },
   "source": [
    "_Answer._\n",
    "- `first(A) = {x, y}`\n",
    "- `first(B) = {x, z}`\n",
    "- `first(S) = {x, y, z}`"
   ]
  },
  {
   "cell_type": "markdown",
   "metadata": {
    "slideshow": {
     "slide_type": "slide"
    }
   },
   "source": [
    "Consider grammar `G₄`:\n",
    "\n",
    "\tS → A x\n",
    "    A → x | ε\n",
    "\n",
    "When parsing sentence `x`, we may again get stuck:\n",
    "\n",
    "| step | stack | input |\n",
    "|:-----|:------|:------|\n",
    "| ` `  | `S`   | `x`   |\n",
    "| P    | `Ax`  | `x`   |\n",
    "| P    | `xx`  | `x`   |\n",
    "| M    | `x`   |       |\n",
    "\n",
    "**Condition 2.** For every nonterminal `A` from which the empty sequence can be derived, the set of initial symbols must be disjoint from the set of symbols that may follow any sequence generated from `A`:\n",
    "\n",
    "  `first(A) ∩ follow(A) = {}`  for all `A` such that `A ⇒* ε`"
   ]
  },
  {
   "cell_type": "markdown",
   "metadata": {
    "slideshow": {
     "slide_type": "slide"
    },
    "solution": "hidden",
    "solution_first": true
   },
   "source": [
    "**Question.** What are `first(A)` and `follow(A)` in `G₄` and from which nonterminals can `ε` be derived?"
   ]
  },
  {
   "cell_type": "markdown",
   "metadata": {
    "solution": "hidden"
   },
   "source": [
    "_Answer._ Only from `A` can `ε` be derived, `A ⇒* ε`, and `first(A) = {x} = follow(A)`; hence Condition 2 is violated."
   ]
  },
  {
   "cell_type": "markdown",
   "metadata": {
    "slideshow": {
     "slide_type": "slide"
    }
   },
   "source": [
    "The appeal of top-down parsing is that an acceptor can be directly expressed in a programming language with mutually recursive procedures by a parsing technique known as _recursive descent_. It assumes that the grammar is in EBNF.\n",
    "\n",
    "For each nonterminal `B` defined by `B → E`, a procedure with the same name which parses sentences that can be derived from `E` is constructed,\n",
    "\n",
    "\tB → E\t\t\tprocedure B() pr(E)\n",
    "\n",
    "where `pr(E)` is the parser recognizing `E`. The whole parser becomes a set of mutually recursive procedures.\n",
    "\n",
    "Assume that procedure `next()` reads and assigns the next input symbol to global variable `sym`. The rules for constructing `pr(E)` for recognizing expression `E` are:\n",
    "\n",
    "| `E`             | `pr(E)`                             |\n",
    "|:----------------|:------------------------------------|\n",
    "| `\"a\"`           | `if sym = \"a\" then next else error` |\n",
    "| `B`             | `B()`                               |\n",
    "| `(E₁)`          | `pr(E₁)`                            |\n",
    "| `[E₁]`          | `if sym ∈ first(E₁) then pr(E₁)`    |\n",
    "| `{E₁}`          | `while sym ∈ first(E₁) do pr(E₁)`   |\n",
    "| `E₁ E₂ …`       | `pr(E₁) ; pr(E₂) ; …`               |\n",
    "| `E1 \\| E₂ \\| …` | <code>case sym of<br> first(E₁): pr(E₁)<br> first(E₂): pr(E₂)<br> …<br> otherwise error</code> |\n",
    "\n",
    "The procedure recognizing the start symbol has to be called for recognizing a sentence of the language."
   ]
  },
  {
   "cell_type": "markdown",
   "metadata": {
    "slideshow": {
     "slide_type": "slide"
    }
   },
   "source": [
    "For example consider the grammar `G₅`:\n",
    "\n",
    "\tA → a A c | b\n",
    "\n",
    "Applying above rules for `pr(E)` results in:\n",
    "\n",
    "    procedure A()\n",
    "        case sym of\n",
    "            \"a\": next ; A ; if sym = \"c\" then next else error end\n",
    "            \"b\": next\n",
    "        otherwise error"
   ]
  },
  {
   "cell_type": "markdown",
   "metadata": {
    "slideshow": {
     "slide_type": "slide"
    }
   },
   "source": [
    "Above, we have already applied a number of simplifications. Generally useful transformations are:  \n",
    "` `\n",
    "<div style=\"float:left\">\n",
    "<code>case sym of\n",
    "  L: if sym ∈ L then S else error\n",
    "  …</code></div>\n",
    "<span style=\"float:left\"><code> = </code></span>\n",
    "<code>case sym of\n",
    "   L: S\n",
    "   …</code>\n",
    "<br><br>\n",
    "<div style=\"float:left\">\n",
    "<code>while sym ∈ L do\n",
    "  if sym ∈ L then S else error</code></div>\n",
    "<span style=\"float:left\"><code> = </code></span>\n",
    "<code>while sym ∈ L do\n",
    "   S</code>\n",
    "<br><br>\n",
    "<div style=\"float:left\">\n",
    "<code>case sym of\n",
    "  L1: S1\n",
    "  L1: S1\n",
    "  …\n",
    "otherwise error</code></div>\n",
    "<span style=\"float:left\"><code> = </code></span>\n",
    "<code>if sym = L1 then S1\n",
    "  else if sym = L2 then S2\n",
    "  …\n",
    "  else error</code>"
   ]
  },
  {
   "cell_type": "markdown",
   "metadata": {
    "slideshow": {
     "slide_type": "slide"
    }
   },
   "source": [
    "The implementation in Python stores the input in the global variable `src` and maintains an index to the next symbol to be read:"
   ]
  },
  {
   "cell_type": "code",
   "execution_count": null,
   "metadata": {},
   "outputs": [],
   "source": [
    "def nxt():\n",
    "    global pos, sym\n",
    "    if pos < len(src): sym, pos = src[pos], pos+1\n",
    "    else: sym = chr(0) # end of input symbol\n",
    "\n",
    "def A():\n",
    "    if sym == 'a':\n",
    "        nxt(); A();\n",
    "        if sym == 'c': nxt()\n",
    "        else: raise Exception(\"'c' expected at \" + str(pos))\n",
    "    elif sym == 'b': nxt()\n",
    "    else: raise Exception(\"'a' or 'b' expected at \" + str(pos))\n",
    "\n",
    "def parse(s):\n",
    "    global src, pos;\n",
    "    src, pos = s, 0; nxt(); A()\n",
    "    if sym != chr(0): raise Exception(\"unexpected characters at \" + str(pos))\n",
    "\n",
    "parse(\"aabcc\")"
   ]
  }
 ],
 "metadata": {
  "kernelspec": {
   "display_name": "Python 3",
   "language": "python",
   "name": "python3"
  },
  "language_info": {
   "codemirror_mode": {
    "name": "ipython",
    "version": 3
   },
   "file_extension": ".py",
   "mimetype": "text/x-python",
   "name": "python",
   "nbconvert_exporter": "python",
   "pygments_lexer": "ipython3",
   "version": "3.7.2"
  },
  "livereveal": {
   "height": "1080",
   "history": true,
   "margin": "0.01",
   "progress": true,
   "scroll": true,
   "start_slideshow_at": "selected",
   "theme": "night",
   "width": "1920"
  },
  "toc": {
   "base_numbering": 1,
   "nav_menu": {},
   "number_sections": false,
   "sideBar": false,
   "skip_h1_title": true,
   "title_cell": "Table of Contents",
   "title_sidebar": "Contents",
   "toc_cell": false,
   "toc_position": {},
   "toc_section_display": true,
   "toc_window_display": false
  }
 },
 "nbformat": 4,
 "nbformat_minor": 2
}
